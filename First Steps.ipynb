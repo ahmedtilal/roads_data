{
 "cells": [
  {
   "cell_type": "code",
   "execution_count": 16,
   "metadata": {},
   "outputs": [],
   "source": [
    "import pandas as pd\n",
    "import requests\n",
    "import xml.etree.ElementTree as ET\n",
    "from xml import etree"
   ]
  },
  {
   "cell_type": "markdown",
   "metadata": {},
   "source": [
    "## .gov Data"
   ]
  },
  {
   "cell_type": "code",
   "execution_count": 17,
   "metadata": {},
   "outputs": [],
   "source": [
    "URL = \"https://s3.eu-west-2.amazonaws.com/data.nationalhighways.co.uk/ha-roadworks/nh_roadworks_2022_8_22.xml\"\n",
    "\n",
    "response = requests.get(URL)\n",
    "with open('2022_8_22.xml', 'wb') as file:\n",
    "    file.write(response.content)"
   ]
  },
  {
   "cell_type": "code",
   "execution_count": 18,
   "metadata": {},
   "outputs": [],
   "source": [
    "tree = ET.parse('2022_8_22.xml')\n",
    "root = tree.getroot()"
   ]
  },
  {
   "cell_type": "code",
   "execution_count": 19,
   "metadata": {},
   "outputs": [],
   "source": [
    "root = root[0][0]"
   ]
  },
  {
   "cell_type": "code",
   "execution_count": 20,
   "metadata": {},
   "outputs": [],
   "source": [
    "children = []\n",
    "for child in root:\n",
    "    children.append(child.attrib)"
   ]
  },
  {
   "cell_type": "code",
   "execution_count": 21,
   "metadata": {},
   "outputs": [],
   "source": [
    "df = pd.DataFrame.from_records(children)"
   ]
  },
  {
   "cell_type": "code",
   "execution_count": 22,
   "metadata": {},
   "outputs": [
    {
     "data": {
      "text/plain": [
       "Index(['NEW_EVENT_NUMBER', 'SDATE', 'EDATE', 'EXPDEL', 'DESCRIPTION',\n",
       "       'CLOSURE_TYPE', 'STATUS', 'PUBLISHED_DATE', 'OLD_REFERENCE_NUMBER'],\n",
       "      dtype='object')"
      ]
     },
     "execution_count": 22,
     "metadata": {},
     "output_type": "execute_result"
    }
   ],
   "source": [
    "df.columns"
   ]
  },
  {
   "cell_type": "code",
   "execution_count": 23,
   "metadata": {},
   "outputs": [],
   "source": [
    "df['SDATE'] = pd.to_datetime(df['SDATE'])\n",
    "df['EDATE'] = pd.to_datetime(df['EDATE'])\n",
    "df['PUBLISHED_DATE'] = pd.to_datetime(df['PUBLISHED_DATE'])"
   ]
  },
  {
   "cell_type": "code",
   "execution_count": 24,
   "metadata": {},
   "outputs": [
    {
     "data": {
      "text/html": [
       "<div>\n",
       "<style scoped>\n",
       "    .dataframe tbody tr th:only-of-type {\n",
       "        vertical-align: middle;\n",
       "    }\n",
       "\n",
       "    .dataframe tbody tr th {\n",
       "        vertical-align: top;\n",
       "    }\n",
       "\n",
       "    .dataframe thead th {\n",
       "        text-align: right;\n",
       "    }\n",
       "</style>\n",
       "<table border=\"1\" class=\"dataframe\">\n",
       "  <thead>\n",
       "    <tr style=\"text-align: right;\">\n",
       "      <th></th>\n",
       "      <th>NEW_EVENT_NUMBER</th>\n",
       "      <th>SDATE</th>\n",
       "      <th>EDATE</th>\n",
       "      <th>EXPDEL</th>\n",
       "      <th>DESCRIPTION</th>\n",
       "      <th>CLOSURE_TYPE</th>\n",
       "      <th>STATUS</th>\n",
       "      <th>PUBLISHED_DATE</th>\n",
       "      <th>OLD_REFERENCE_NUMBER</th>\n",
       "    </tr>\n",
       "  </thead>\n",
       "  <tbody>\n",
       "    <tr>\n",
       "      <th>913</th>\n",
       "      <td>00267992-003</td>\n",
       "      <td>2022-09-01 20:00:00</td>\n",
       "      <td>2022-09-23 05:30:00</td>\n",
       "      <td>Moderate (10 - 30 mins)</td>\n",
       "      <td>M6 southbound jct 15 entry slip \\r\\nclosure of...</td>\n",
       "      <td>Ad-hoc Street/Road Works</td>\n",
       "      <td>Published</td>\n",
       "      <td>2022-08-21 15:04:55</td>\n",
       "      <td>NaN</td>\n",
       "    </tr>\n",
       "    <tr>\n",
       "      <th>463</th>\n",
       "      <td>00268003-002</td>\n",
       "      <td>2022-08-30 20:00:00</td>\n",
       "      <td>2022-09-21 05:30:00</td>\n",
       "      <td>Moderate (10 - 30 mins)</td>\n",
       "      <td>M6 northbound jct 15 \\r\\nclosure of jct 15 ent...</td>\n",
       "      <td>Developer Works</td>\n",
       "      <td>Published</td>\n",
       "      <td>2022-08-21 15:02:07</td>\n",
       "      <td>NaN</td>\n",
       "    </tr>\n",
       "    <tr>\n",
       "      <th>138</th>\n",
       "      <td>00267909-003</td>\n",
       "      <td>2022-08-30 20:00:00</td>\n",
       "      <td>2022-09-21 05:30:00</td>\n",
       "      <td>Moderate (10 - 30 mins)</td>\n",
       "      <td>M6 northbound jct 15 \\r\\ncarriageway closure f...</td>\n",
       "      <td>Developer Works</td>\n",
       "      <td>Published</td>\n",
       "      <td>2022-08-21 14:57:21</td>\n",
       "      <td>NaN</td>\n",
       "    </tr>\n",
       "    <tr>\n",
       "      <th>292</th>\n",
       "      <td>00274427-002</td>\n",
       "      <td>2022-08-31 21:00:00</td>\n",
       "      <td>2022-09-01 06:00:00</td>\n",
       "      <td>Moderate (10 - 30 mins)</td>\n",
       "      <td>M6 northbound jct 4 to jct 6 including M42 lin...</td>\n",
       "      <td>National Technology Works</td>\n",
       "      <td>Published</td>\n",
       "      <td>2022-08-21 14:52:44</td>\n",
       "      <td>NaN</td>\n",
       "    </tr>\n",
       "    <tr>\n",
       "      <th>768</th>\n",
       "      <td>00270923-003</td>\n",
       "      <td>2022-08-22 20:00:00</td>\n",
       "      <td>2022-08-24 06:00:00</td>\n",
       "      <td>Slight (less than 10 mins)</td>\n",
       "      <td>M42 southbound link road jct 3A to M42 southbo...</td>\n",
       "      <td>Programmed Routine Works</td>\n",
       "      <td>Published</td>\n",
       "      <td>2022-08-21 13:54:12</td>\n",
       "      <td>NaN</td>\n",
       "    </tr>\n",
       "    <tr>\n",
       "      <th>...</th>\n",
       "      <td>...</td>\n",
       "      <td>...</td>\n",
       "      <td>...</td>\n",
       "      <td>...</td>\n",
       "      <td>...</td>\n",
       "      <td>...</td>\n",
       "      <td>...</td>\n",
       "      <td>...</td>\n",
       "      <td>...</td>\n",
       "    </tr>\n",
       "    <tr>\n",
       "      <th>1127</th>\n",
       "      <td>00226065-001</td>\n",
       "      <td>2022-08-29 22:00:00</td>\n",
       "      <td>2022-09-03 05:00:00</td>\n",
       "      <td>Moderate (10 - 30 mins)</td>\n",
       "      <td>M23 southbound Jct 8 to M25 clockwise and anti...</td>\n",
       "      <td>Programmed Routine Works</td>\n",
       "      <td>Published</td>\n",
       "      <td>2021-07-28 09:58:24</td>\n",
       "      <td>NaN</td>\n",
       "    </tr>\n",
       "    <tr>\n",
       "      <th>501</th>\n",
       "      <td>00224633-001</td>\n",
       "      <td>2022-08-22 21:00:00</td>\n",
       "      <td>2022-08-23 05:00:00</td>\n",
       "      <td>Slight (less than 10 mins)</td>\n",
       "      <td>M67 Westbound Junction 3 - 2 Lanes 1 &amp; 2 Westb...</td>\n",
       "      <td>Programmed Routine Works</td>\n",
       "      <td>Published</td>\n",
       "      <td>2021-07-13 15:33:06</td>\n",
       "      <td>NaN</td>\n",
       "    </tr>\n",
       "    <tr>\n",
       "      <th>1126</th>\n",
       "      <td>00146456-002</td>\n",
       "      <td>2020-01-13 16:36:00</td>\n",
       "      <td>2025-01-01 06:00:00</td>\n",
       "      <td>Moderate (10 - 30 mins)</td>\n",
       "      <td>No Closures allowed unless 5k away between Jun...</td>\n",
       "      <td>Embargo</td>\n",
       "      <td>Published</td>\n",
       "      <td>2020-12-22 12:35:25</td>\n",
       "      <td>NaN</td>\n",
       "    </tr>\n",
       "    <tr>\n",
       "      <th>1125</th>\n",
       "      <td>00152862-001</td>\n",
       "      <td>2022-09-05 09:00:00</td>\n",
       "      <td>2022-09-09 15:30:00</td>\n",
       "      <td>Slight (less than 10 mins)</td>\n",
       "      <td>A259 eastbound and westbound Pevensey roundabo...</td>\n",
       "      <td>Licensee Works</td>\n",
       "      <td>Published</td>\n",
       "      <td>2020-02-19 14:19:52</td>\n",
       "      <td>NaN</td>\n",
       "    </tr>\n",
       "    <tr>\n",
       "      <th>795</th>\n",
       "      <td>00119559-001</td>\n",
       "      <td>2022-08-22 21:00:00</td>\n",
       "      <td>2022-08-26 06:00:00</td>\n",
       "      <td>Slight (less than 10 mins)</td>\n",
       "      <td>A20 eastbound and westbound between Folkestone...</td>\n",
       "      <td>Area Renewals</td>\n",
       "      <td>Published</td>\n",
       "      <td>2019-07-09 14:21:13</td>\n",
       "      <td>NaN</td>\n",
       "    </tr>\n",
       "  </tbody>\n",
       "</table>\n",
       "<p>1285 rows × 9 columns</p>\n",
       "</div>"
      ],
      "text/plain": [
       "     NEW_EVENT_NUMBER               SDATE               EDATE  \\\n",
       "913      00267992-003 2022-09-01 20:00:00 2022-09-23 05:30:00   \n",
       "463      00268003-002 2022-08-30 20:00:00 2022-09-21 05:30:00   \n",
       "138      00267909-003 2022-08-30 20:00:00 2022-09-21 05:30:00   \n",
       "292      00274427-002 2022-08-31 21:00:00 2022-09-01 06:00:00   \n",
       "768      00270923-003 2022-08-22 20:00:00 2022-08-24 06:00:00   \n",
       "...               ...                 ...                 ...   \n",
       "1127     00226065-001 2022-08-29 22:00:00 2022-09-03 05:00:00   \n",
       "501      00224633-001 2022-08-22 21:00:00 2022-08-23 05:00:00   \n",
       "1126     00146456-002 2020-01-13 16:36:00 2025-01-01 06:00:00   \n",
       "1125     00152862-001 2022-09-05 09:00:00 2022-09-09 15:30:00   \n",
       "795      00119559-001 2022-08-22 21:00:00 2022-08-26 06:00:00   \n",
       "\n",
       "                          EXPDEL  \\\n",
       "913      Moderate (10 - 30 mins)   \n",
       "463      Moderate (10 - 30 mins)   \n",
       "138      Moderate (10 - 30 mins)   \n",
       "292      Moderate (10 - 30 mins)   \n",
       "768   Slight (less than 10 mins)   \n",
       "...                          ...   \n",
       "1127     Moderate (10 - 30 mins)   \n",
       "501   Slight (less than 10 mins)   \n",
       "1126     Moderate (10 - 30 mins)   \n",
       "1125  Slight (less than 10 mins)   \n",
       "795   Slight (less than 10 mins)   \n",
       "\n",
       "                                            DESCRIPTION  \\\n",
       "913   M6 southbound jct 15 entry slip \\r\\nclosure of...   \n",
       "463   M6 northbound jct 15 \\r\\nclosure of jct 15 ent...   \n",
       "138   M6 northbound jct 15 \\r\\ncarriageway closure f...   \n",
       "292   M6 northbound jct 4 to jct 6 including M42 lin...   \n",
       "768   M42 southbound link road jct 3A to M42 southbo...   \n",
       "...                                                 ...   \n",
       "1127  M23 southbound Jct 8 to M25 clockwise and anti...   \n",
       "501   M67 Westbound Junction 3 - 2 Lanes 1 & 2 Westb...   \n",
       "1126  No Closures allowed unless 5k away between Jun...   \n",
       "1125  A259 eastbound and westbound Pevensey roundabo...   \n",
       "795   A20 eastbound and westbound between Folkestone...   \n",
       "\n",
       "                   CLOSURE_TYPE     STATUS      PUBLISHED_DATE  \\\n",
       "913    Ad-hoc Street/Road Works  Published 2022-08-21 15:04:55   \n",
       "463             Developer Works  Published 2022-08-21 15:02:07   \n",
       "138             Developer Works  Published 2022-08-21 14:57:21   \n",
       "292   National Technology Works  Published 2022-08-21 14:52:44   \n",
       "768    Programmed Routine Works  Published 2022-08-21 13:54:12   \n",
       "...                         ...        ...                 ...   \n",
       "1127   Programmed Routine Works  Published 2021-07-28 09:58:24   \n",
       "501    Programmed Routine Works  Published 2021-07-13 15:33:06   \n",
       "1126                    Embargo  Published 2020-12-22 12:35:25   \n",
       "1125             Licensee Works  Published 2020-02-19 14:19:52   \n",
       "795               Area Renewals  Published 2019-07-09 14:21:13   \n",
       "\n",
       "     OLD_REFERENCE_NUMBER  \n",
       "913                   NaN  \n",
       "463                   NaN  \n",
       "138                   NaN  \n",
       "292                   NaN  \n",
       "768                   NaN  \n",
       "...                   ...  \n",
       "1127                  NaN  \n",
       "501                   NaN  \n",
       "1126                  NaN  \n",
       "1125                  NaN  \n",
       "795                   NaN  \n",
       "\n",
       "[1285 rows x 9 columns]"
      ]
     },
     "execution_count": 24,
     "metadata": {},
     "output_type": "execute_result"
    }
   ],
   "source": [
    "df.sort_values(by='PUBLISHED_DATE', ascending=False)"
   ]
  },
  {
   "cell_type": "code",
   "execution_count": 25,
   "metadata": {},
   "outputs": [
    {
     "name": "stdout",
     "output_type": "stream",
     "text": [
      "M6 Southbound Jct32 to 31a lane closures for recovery of HGV and installation of Varioguard\n",
      "M18 northbound and southbound Jct 2.\n",
      "Carriageway and lane closures due to incident.\n",
      "Diversion route in place via National Highways network.\n",
      "M180 westbound Jct 3 to Jct 2.\n",
      "Carriageway and lane closures due to bridge strike.\n",
      "Diversion route in place via Local Highway Authority network.\n"
     ]
    }
   ],
   "source": [
    "for desc in df[df['CLOSURE_TYPE'] == 'Traffic Incidents'].DESCRIPTION:\n",
    "    print(desc)"
   ]
  },
  {
   "cell_type": "code",
   "execution_count": null,
   "metadata": {},
   "outputs": [],
   "source": [
    "df.to_excel('2022_8_22.xlsx', index=False)"
   ]
  },
  {
   "cell_type": "markdown",
   "metadata": {},
   "source": [
    "## TFL Data"
   ]
  },
  {
   "cell_type": "code",
   "execution_count": 11,
   "metadata": {},
   "outputs": [],
   "source": [
    "import requests, json"
   ]
  },
  {
   "cell_type": "code",
   "execution_count": 12,
   "metadata": {},
   "outputs": [],
   "source": [
    "def get_json_data(url) -> list:\n",
    "    try:\n",
    "        hdr ={\n",
    "        # Request headers\n",
    "        'Cache-Control': 'no-cache',\n",
    "        }\n",
    "\n",
    "        response = requests.get(url, headers=hdr)\n",
    "    except Exception as e:\n",
    "        print(e)\n",
    "        return False\n",
    "    return response.json()\n",
    "\n",
    "def convert_json_to_df(json: list) -> pd.DataFrame:\n",
    "    return pd.DataFrame.from_records(json)\n",
    "\n",
    "def get_df_from_endpoint(url: str) -> pd.DataFrame | bool:\n",
    "    json = get_json_data(url)\n",
    "    if json:\n",
    "        return convert_json_to_df(json)\n",
    "    return False"
   ]
  },
  {
   "cell_type": "code",
   "execution_count": 13,
   "metadata": {},
   "outputs": [],
   "source": [
    "# All roads managed by tfl.\n",
    "\n",
    "roads_url = \"https://api.tfl.gov.uk/Road/\"\n",
    "all_roads_df = get_df_from_endpoint(roads_url)"
   ]
  },
  {
   "cell_type": "code",
   "execution_count": 21,
   "metadata": {},
   "outputs": [],
   "source": [
    "# Disruptions by Date\n",
    "disruptions_url = \"https://api.tfl.gov.uk/Road/all/Street/Disruption?startDate=01-01-2022&endDate=01-01-2023\"\n",
    "disruptions_df = get_df_from_endpoint(disruptions_url)"
   ]
  },
  {
   "cell_type": "code",
   "execution_count": 22,
   "metadata": {},
   "outputs": [],
   "source": [
    "disruptions_df.to_excel('Exploring disruptions.xlsx')"
   ]
  },
  {
   "cell_type": "markdown",
   "metadata": {},
   "source": [
    "# Webtris Highways England API"
   ]
  },
  {
   "cell_type": "code",
   "execution_count": 8,
   "metadata": {},
   "outputs": [],
   "source": [
    "import requests, json\n",
    "import pandas as pd"
   ]
  },
  {
   "cell_type": "code",
   "execution_count": 2,
   "metadata": {},
   "outputs": [],
   "source": [
    "sites_url = \"http://webtris.highwaysengland.co.uk/api/v1.0/sites\""
   ]
  },
  {
   "cell_type": "code",
   "execution_count": 3,
   "metadata": {},
   "outputs": [],
   "source": [
    "response = requests.get(sites_url)"
   ]
  },
  {
   "cell_type": "code",
   "execution_count": 9,
   "metadata": {},
   "outputs": [],
   "source": [
    "sites_json = response.json()"
   ]
  },
  {
   "cell_type": "code",
   "execution_count": 14,
   "metadata": {},
   "outputs": [],
   "source": [
    "df = pd.DataFrame.from_records(sites_json['sites'])"
   ]
  },
  {
   "cell_type": "code",
   "execution_count": 15,
   "metadata": {},
   "outputs": [
    {
     "data": {
      "text/html": [
       "<div>\n",
       "<style scoped>\n",
       "    .dataframe tbody tr th:only-of-type {\n",
       "        vertical-align: middle;\n",
       "    }\n",
       "\n",
       "    .dataframe tbody tr th {\n",
       "        vertical-align: top;\n",
       "    }\n",
       "\n",
       "    .dataframe thead th {\n",
       "        text-align: right;\n",
       "    }\n",
       "</style>\n",
       "<table border=\"1\" class=\"dataframe\">\n",
       "  <thead>\n",
       "    <tr style=\"text-align: right;\">\n",
       "      <th></th>\n",
       "      <th>Id</th>\n",
       "      <th>Name</th>\n",
       "      <th>Description</th>\n",
       "      <th>Longitude</th>\n",
       "      <th>Latitude</th>\n",
       "      <th>Status</th>\n",
       "    </tr>\n",
       "  </thead>\n",
       "  <tbody>\n",
       "    <tr>\n",
       "      <th>0</th>\n",
       "      <td>1</td>\n",
       "      <td>MIDAS site at M4/2295A2 priority 1 on link 105...</td>\n",
       "      <td>M4/2295A2</td>\n",
       "      <td>-0.520380</td>\n",
       "      <td>51.493012</td>\n",
       "      <td>Inactive</td>\n",
       "    </tr>\n",
       "    <tr>\n",
       "      <th>1</th>\n",
       "      <td>2</td>\n",
       "      <td>MIDAS site at A1M/2259B priority 1 on link 126...</td>\n",
       "      <td>A1M/2259B</td>\n",
       "      <td>-0.320275</td>\n",
       "      <td>52.535158</td>\n",
       "      <td>Active</td>\n",
       "    </tr>\n",
       "    <tr>\n",
       "      <th>2</th>\n",
       "      <td>3</td>\n",
       "      <td>MIDAS site at M5/7482B priority 1 on link 1090...</td>\n",
       "      <td>M5/7482B</td>\n",
       "      <td>-2.175138</td>\n",
       "      <td>52.175652</td>\n",
       "      <td>Active</td>\n",
       "    </tr>\n",
       "    <tr>\n",
       "      <th>3</th>\n",
       "      <td>4</td>\n",
       "      <td>MIDAS site at M3/2173A priority 1 on link 1030...</td>\n",
       "      <td>M3/2173A</td>\n",
       "      <td>-1.392374</td>\n",
       "      <td>50.960359</td>\n",
       "      <td>Inactive</td>\n",
       "    </tr>\n",
       "    <tr>\n",
       "      <th>4</th>\n",
       "      <td>5</td>\n",
       "      <td>MIDAS site at M25/5764B priority 1 on link 199...</td>\n",
       "      <td>M25/5764B</td>\n",
       "      <td>0.283162</td>\n",
       "      <td>51.575617</td>\n",
       "      <td>Active</td>\n",
       "    </tr>\n",
       "    <tr>\n",
       "      <th>...</th>\n",
       "      <td>...</td>\n",
       "      <td>...</td>\n",
       "      <td>...</td>\n",
       "      <td>...</td>\n",
       "      <td>...</td>\n",
       "      <td>...</td>\n",
       "    </tr>\n",
       "    <tr>\n",
       "      <th>19350</th>\n",
       "      <td>19779</td>\n",
       "      <td>TMU Site 9984/1 on link A5 northbound between ...</td>\n",
       "      <td>9984/1</td>\n",
       "      <td>-0.707930</td>\n",
       "      <td>51.998730</td>\n",
       "      <td>Active</td>\n",
       "    </tr>\n",
       "    <tr>\n",
       "      <th>19351</th>\n",
       "      <td>19780</td>\n",
       "      <td>TMU Site 9984/2 on link A5 southbound between ...</td>\n",
       "      <td>9984/2</td>\n",
       "      <td>-0.707696</td>\n",
       "      <td>51.998782</td>\n",
       "      <td>Active</td>\n",
       "    </tr>\n",
       "    <tr>\n",
       "      <th>19352</th>\n",
       "      <td>19781</td>\n",
       "      <td>TMU Site 9985/1 on A46 southbound between A563...</td>\n",
       "      <td>9985/1</td>\n",
       "      <td>-1.195749</td>\n",
       "      <td>52.663568</td>\n",
       "      <td>Active</td>\n",
       "    </tr>\n",
       "    <tr>\n",
       "      <th>19353</th>\n",
       "      <td>19782</td>\n",
       "      <td>TMU Site 9986/1 on link A46 northbound between...</td>\n",
       "      <td>9986/1</td>\n",
       "      <td>-1.116007</td>\n",
       "      <td>52.694358</td>\n",
       "      <td>Active</td>\n",
       "    </tr>\n",
       "    <tr>\n",
       "      <th>19354</th>\n",
       "      <td>19783</td>\n",
       "      <td>TMU Site 9986/2 on link A46 southbound between...</td>\n",
       "      <td>9986/2</td>\n",
       "      <td>-1.115935</td>\n",
       "      <td>52.694249</td>\n",
       "      <td>Active</td>\n",
       "    </tr>\n",
       "  </tbody>\n",
       "</table>\n",
       "<p>19355 rows × 6 columns</p>\n",
       "</div>"
      ],
      "text/plain": [
       "          Id                                               Name Description  \\\n",
       "0          1  MIDAS site at M4/2295A2 priority 1 on link 105...   M4/2295A2   \n",
       "1          2  MIDAS site at A1M/2259B priority 1 on link 126...   A1M/2259B   \n",
       "2          3  MIDAS site at M5/7482B priority 1 on link 1090...    M5/7482B   \n",
       "3          4  MIDAS site at M3/2173A priority 1 on link 1030...    M3/2173A   \n",
       "4          5  MIDAS site at M25/5764B priority 1 on link 199...   M25/5764B   \n",
       "...      ...                                                ...         ...   \n",
       "19350  19779  TMU Site 9984/1 on link A5 northbound between ...      9984/1   \n",
       "19351  19780  TMU Site 9984/2 on link A5 southbound between ...      9984/2   \n",
       "19352  19781  TMU Site 9985/1 on A46 southbound between A563...      9985/1   \n",
       "19353  19782  TMU Site 9986/1 on link A46 northbound between...      9986/1   \n",
       "19354  19783  TMU Site 9986/2 on link A46 southbound between...      9986/2   \n",
       "\n",
       "       Longitude   Latitude    Status  \n",
       "0      -0.520380  51.493012  Inactive  \n",
       "1      -0.320275  52.535158    Active  \n",
       "2      -2.175138  52.175652    Active  \n",
       "3      -1.392374  50.960359  Inactive  \n",
       "4       0.283162  51.575617    Active  \n",
       "...          ...        ...       ...  \n",
       "19350  -0.707930  51.998730    Active  \n",
       "19351  -0.707696  51.998782    Active  \n",
       "19352  -1.195749  52.663568    Active  \n",
       "19353  -1.116007  52.694358    Active  \n",
       "19354  -1.115935  52.694249    Active  \n",
       "\n",
       "[19355 rows x 6 columns]"
      ]
     },
     "execution_count": 15,
     "metadata": {},
     "output_type": "execute_result"
    }
   ],
   "source": [
    "df"
   ]
  }
 ],
 "metadata": {
  "kernelspec": {
   "display_name": "Python 3.10.6 64-bit",
   "language": "python",
   "name": "python3"
  },
  "language_info": {
   "codemirror_mode": {
    "name": "ipython",
    "version": 3
   },
   "file_extension": ".py",
   "mimetype": "text/x-python",
   "name": "python",
   "nbconvert_exporter": "python",
   "pygments_lexer": "ipython3",
   "version": "3.10.6"
  },
  "orig_nbformat": 4,
  "vscode": {
   "interpreter": {
    "hash": "97cc609b13305c559618ec78a438abc56230b9381f827f22d070313b9a1f3777"
   }
  }
 },
 "nbformat": 4,
 "nbformat_minor": 2
}
