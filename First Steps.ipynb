{
 "cells": [
  {
   "cell_type": "code",
   "execution_count": 1,
   "metadata": {},
   "outputs": [],
   "source": [
    "import pandas as pd\n",
    "import requests\n",
    "import xml.etree.ElementTree as ET\n",
    "from xml import etree"
   ]
  },
  {
   "cell_type": "markdown",
   "metadata": {},
   "source": [
    "## .gov Data"
   ]
  },
  {
   "cell_type": "code",
   "execution_count": 2,
   "metadata": {},
   "outputs": [],
   "source": [
    "URL = \"https://s3.eu-west-2.amazonaws.com/data.nationalhighways.co.uk/ha-roadworks/nh_roadworks_2022_6_27.xml\"\n",
    "\n",
    "response = requests.get(URL)\n",
    "with open('2022_6_7.xml', 'wb') as file:\n",
    "    file.write(response.content)"
   ]
  },
  {
   "cell_type": "code",
   "execution_count": 3,
   "metadata": {},
   "outputs": [],
   "source": [
    "tree = ET.parse('2022_6_7.xml')\n",
    "root = tree.getroot()"
   ]
  },
  {
   "cell_type": "code",
   "execution_count": 4,
   "metadata": {},
   "outputs": [],
   "source": [
    "root = root[0][0]"
   ]
  },
  {
   "cell_type": "code",
   "execution_count": 5,
   "metadata": {},
   "outputs": [],
   "source": [
    "children = []\n",
    "for child in root:\n",
    "    children.append(child.attrib)"
   ]
  },
  {
   "cell_type": "code",
   "execution_count": 6,
   "metadata": {},
   "outputs": [],
   "source": [
    "df = pd.DataFrame.from_records(children)"
   ]
  },
  {
   "cell_type": "code",
   "execution_count": 7,
   "metadata": {},
   "outputs": [
    {
     "data": {
      "text/plain": [
       "Index(['NEW_EVENT_NUMBER', 'SDATE', 'EDATE', 'EXPDEL', 'DESCRIPTION',\n",
       "       'CLOSURE_TYPE', 'STATUS', 'PUBLISHED_DATE', 'OLD_REFERENCE_NUMBER'],\n",
       "      dtype='object')"
      ]
     },
     "execution_count": 7,
     "metadata": {},
     "output_type": "execute_result"
    }
   ],
   "source": [
    "df.columns"
   ]
  },
  {
   "cell_type": "code",
   "execution_count": 8,
   "metadata": {},
   "outputs": [],
   "source": [
    "df['SDATE'] = pd.to_datetime(df['SDATE'])\n",
    "df['EDATE'] = pd.to_datetime(df['EDATE'])\n",
    "df['PUBLISHED_DATE'] = pd.to_datetime(df['PUBLISHED_DATE'])"
   ]
  },
  {
   "cell_type": "code",
   "execution_count": 9,
   "metadata": {},
   "outputs": [
    {
     "data": {
      "text/html": [
       "<div>\n",
       "<style scoped>\n",
       "    .dataframe tbody tr th:only-of-type {\n",
       "        vertical-align: middle;\n",
       "    }\n",
       "\n",
       "    .dataframe tbody tr th {\n",
       "        vertical-align: top;\n",
       "    }\n",
       "\n",
       "    .dataframe thead th {\n",
       "        text-align: right;\n",
       "    }\n",
       "</style>\n",
       "<table border=\"1\" class=\"dataframe\">\n",
       "  <thead>\n",
       "    <tr style=\"text-align: right;\">\n",
       "      <th></th>\n",
       "      <th>NEW_EVENT_NUMBER</th>\n",
       "      <th>SDATE</th>\n",
       "      <th>EDATE</th>\n",
       "      <th>EXPDEL</th>\n",
       "      <th>DESCRIPTION</th>\n",
       "      <th>CLOSURE_TYPE</th>\n",
       "      <th>STATUS</th>\n",
       "      <th>PUBLISHED_DATE</th>\n",
       "      <th>OLD_REFERENCE_NUMBER</th>\n",
       "    </tr>\n",
       "  </thead>\n",
       "  <tbody>\n",
       "    <tr>\n",
       "      <th>0</th>\n",
       "      <td>00236665-001</td>\n",
       "      <td>2022-07-07 22:00:00</td>\n",
       "      <td>2022-07-08 05:00:00</td>\n",
       "      <td>Slight (less than 10 mins)</td>\n",
       "      <td>A40 Westbound Jct 1\\r\\nSlip road lane closures...</td>\n",
       "      <td>Programmed Routine Works</td>\n",
       "      <td>Published</td>\n",
       "      <td>2021-10-08 16:42:51</td>\n",
       "      <td>NaN</td>\n",
       "    </tr>\n",
       "    <tr>\n",
       "      <th>1</th>\n",
       "      <td>00233760-003</td>\n",
       "      <td>2022-07-11 20:00:00</td>\n",
       "      <td>2022-07-23 06:00:00</td>\n",
       "      <td>Moderate (10 - 30 mins)</td>\n",
       "      <td>A1(M)/M62 Link roads (A1(M) Jct 41/M62 Jct 32a...</td>\n",
       "      <td>Programmed Routine Works</td>\n",
       "      <td>Published</td>\n",
       "      <td>2021-10-21 11:51:46</td>\n",
       "      <td>NaN</td>\n",
       "    </tr>\n",
       "    <tr>\n",
       "      <th>2</th>\n",
       "      <td>00031362-003</td>\n",
       "      <td>2020-09-01 00:00:00</td>\n",
       "      <td>2023-12-01 00:00:00</td>\n",
       "      <td>Slight (less than 10 mins)</td>\n",
       "      <td>A30 Carland Cross to Chiverton Cross improveme...</td>\n",
       "      <td>Major Schemes</td>\n",
       "      <td>Published</td>\n",
       "      <td>2021-10-15 08:02:48</td>\n",
       "      <td>NaN</td>\n",
       "    </tr>\n",
       "    <tr>\n",
       "      <th>3</th>\n",
       "      <td>00242874-001</td>\n",
       "      <td>2022-07-08 15:00:00</td>\n",
       "      <td>2022-07-08 21:00:00</td>\n",
       "      <td>Slight (less than 10 mins)</td>\n",
       "      <td>Women's European Football Championships\\r\\nSpa...</td>\n",
       "      <td>Off Network</td>\n",
       "      <td>Published</td>\n",
       "      <td>2021-11-18 16:13:19</td>\n",
       "      <td>4231242</td>\n",
       "    </tr>\n",
       "    <tr>\n",
       "      <th>4</th>\n",
       "      <td>00113644-005</td>\n",
       "      <td>2021-12-08 00:00:00</td>\n",
       "      <td>2024-07-01 06:00:00</td>\n",
       "      <td>Slight (less than 10 mins)</td>\n",
       "      <td>A5 from Bucks Head Farm Bridge to Packington M...</td>\n",
       "      <td>Major Schemes</td>\n",
       "      <td>Published</td>\n",
       "      <td>2021-12-06 08:36:05</td>\n",
       "      <td>NaN</td>\n",
       "    </tr>\n",
       "    <tr>\n",
       "      <th>...</th>\n",
       "      <td>...</td>\n",
       "      <td>...</td>\n",
       "      <td>...</td>\n",
       "      <td>...</td>\n",
       "      <td>...</td>\n",
       "      <td>...</td>\n",
       "      <td>...</td>\n",
       "      <td>...</td>\n",
       "      <td>...</td>\n",
       "    </tr>\n",
       "    <tr>\n",
       "      <th>1319</th>\n",
       "      <td>00275330-001</td>\n",
       "      <td>2022-07-08 20:00:00</td>\n",
       "      <td>2022-07-09 05:00:00</td>\n",
       "      <td>Slight (less than 10 mins)</td>\n",
       "      <td>A38 northbound Palm Court to Kedleston.\\r\\nLan...</td>\n",
       "      <td>Emergency Routine Works</td>\n",
       "      <td>Published</td>\n",
       "      <td>2022-06-24 12:11:32</td>\n",
       "      <td>NaN</td>\n",
       "    </tr>\n",
       "    <tr>\n",
       "      <th>1320</th>\n",
       "      <td>00275024-001</td>\n",
       "      <td>2022-06-28 20:00:00</td>\n",
       "      <td>2022-06-29 05:00:00</td>\n",
       "      <td>Slight (less than 10 mins)</td>\n",
       "      <td>A47 westbound \\r\\nCastor to Sutton Roundabout ...</td>\n",
       "      <td>Programmed Routine Works</td>\n",
       "      <td>Published</td>\n",
       "      <td>2022-06-23 09:07:50</td>\n",
       "      <td>NaN</td>\n",
       "    </tr>\n",
       "    <tr>\n",
       "      <th>1321</th>\n",
       "      <td>00273279-002</td>\n",
       "      <td>2022-06-28 22:00:00</td>\n",
       "      <td>2022-06-29 05:00:00</td>\n",
       "      <td>Slight (less than 10 mins)</td>\n",
       "      <td>A3 eastbound to Esher roundabot\\r\\nExit slip a...</td>\n",
       "      <td>Programmed Routine Works</td>\n",
       "      <td>Published</td>\n",
       "      <td>2022-06-21 09:59:37</td>\n",
       "      <td>NaN</td>\n",
       "    </tr>\n",
       "    <tr>\n",
       "      <th>1322</th>\n",
       "      <td>00274440-001</td>\n",
       "      <td>2022-06-26 21:00:00</td>\n",
       "      <td>2022-06-27 06:00:00</td>\n",
       "      <td>Moderate (10 - 30 mins)</td>\n",
       "      <td>M6 Southbound Junction 9 to junction 8 leading...</td>\n",
       "      <td>Emergency Routine Works</td>\n",
       "      <td>Published</td>\n",
       "      <td>2022-06-21 11:19:27</td>\n",
       "      <td>NaN</td>\n",
       "    </tr>\n",
       "    <tr>\n",
       "      <th>1323</th>\n",
       "      <td>00274516-001</td>\n",
       "      <td>2022-07-06 21:00:00</td>\n",
       "      <td>2022-07-07 05:00:00</td>\n",
       "      <td>Slight (less than 10 mins)</td>\n",
       "      <td>A120 westbound\\r\\nDunmow West to Stansted\\r\\nl...</td>\n",
       "      <td>Area Renewals</td>\n",
       "      <td>Published</td>\n",
       "      <td>2022-06-21 12:35:45</td>\n",
       "      <td>NaN</td>\n",
       "    </tr>\n",
       "  </tbody>\n",
       "</table>\n",
       "<p>1324 rows × 9 columns</p>\n",
       "</div>"
      ],
      "text/plain": [
       "     NEW_EVENT_NUMBER               SDATE               EDATE  \\\n",
       "0        00236665-001 2022-07-07 22:00:00 2022-07-08 05:00:00   \n",
       "1        00233760-003 2022-07-11 20:00:00 2022-07-23 06:00:00   \n",
       "2        00031362-003 2020-09-01 00:00:00 2023-12-01 00:00:00   \n",
       "3        00242874-001 2022-07-08 15:00:00 2022-07-08 21:00:00   \n",
       "4        00113644-005 2021-12-08 00:00:00 2024-07-01 06:00:00   \n",
       "...               ...                 ...                 ...   \n",
       "1319     00275330-001 2022-07-08 20:00:00 2022-07-09 05:00:00   \n",
       "1320     00275024-001 2022-06-28 20:00:00 2022-06-29 05:00:00   \n",
       "1321     00273279-002 2022-06-28 22:00:00 2022-06-29 05:00:00   \n",
       "1322     00274440-001 2022-06-26 21:00:00 2022-06-27 06:00:00   \n",
       "1323     00274516-001 2022-07-06 21:00:00 2022-07-07 05:00:00   \n",
       "\n",
       "                          EXPDEL  \\\n",
       "0     Slight (less than 10 mins)   \n",
       "1        Moderate (10 - 30 mins)   \n",
       "2     Slight (less than 10 mins)   \n",
       "3     Slight (less than 10 mins)   \n",
       "4     Slight (less than 10 mins)   \n",
       "...                          ...   \n",
       "1319  Slight (less than 10 mins)   \n",
       "1320  Slight (less than 10 mins)   \n",
       "1321  Slight (less than 10 mins)   \n",
       "1322     Moderate (10 - 30 mins)   \n",
       "1323  Slight (less than 10 mins)   \n",
       "\n",
       "                                            DESCRIPTION  \\\n",
       "0     A40 Westbound Jct 1\\r\\nSlip road lane closures...   \n",
       "1     A1(M)/M62 Link roads (A1(M) Jct 41/M62 Jct 32a...   \n",
       "2     A30 Carland Cross to Chiverton Cross improveme...   \n",
       "3     Women's European Football Championships\\r\\nSpa...   \n",
       "4     A5 from Bucks Head Farm Bridge to Packington M...   \n",
       "...                                                 ...   \n",
       "1319  A38 northbound Palm Court to Kedleston.\\r\\nLan...   \n",
       "1320  A47 westbound \\r\\nCastor to Sutton Roundabout ...   \n",
       "1321  A3 eastbound to Esher roundabot\\r\\nExit slip a...   \n",
       "1322  M6 Southbound Junction 9 to junction 8 leading...   \n",
       "1323  A120 westbound\\r\\nDunmow West to Stansted\\r\\nl...   \n",
       "\n",
       "                  CLOSURE_TYPE     STATUS      PUBLISHED_DATE  \\\n",
       "0     Programmed Routine Works  Published 2021-10-08 16:42:51   \n",
       "1     Programmed Routine Works  Published 2021-10-21 11:51:46   \n",
       "2                Major Schemes  Published 2021-10-15 08:02:48   \n",
       "3                  Off Network  Published 2021-11-18 16:13:19   \n",
       "4                Major Schemes  Published 2021-12-06 08:36:05   \n",
       "...                        ...        ...                 ...   \n",
       "1319   Emergency Routine Works  Published 2022-06-24 12:11:32   \n",
       "1320  Programmed Routine Works  Published 2022-06-23 09:07:50   \n",
       "1321  Programmed Routine Works  Published 2022-06-21 09:59:37   \n",
       "1322   Emergency Routine Works  Published 2022-06-21 11:19:27   \n",
       "1323             Area Renewals  Published 2022-06-21 12:35:45   \n",
       "\n",
       "     OLD_REFERENCE_NUMBER  \n",
       "0                     NaN  \n",
       "1                     NaN  \n",
       "2                     NaN  \n",
       "3                 4231242  \n",
       "4                     NaN  \n",
       "...                   ...  \n",
       "1319                  NaN  \n",
       "1320                  NaN  \n",
       "1321                  NaN  \n",
       "1322                  NaN  \n",
       "1323                  NaN  \n",
       "\n",
       "[1324 rows x 9 columns]"
      ]
     },
     "execution_count": 9,
     "metadata": {},
     "output_type": "execute_result"
    }
   ],
   "source": [
    "df"
   ]
  },
  {
   "cell_type": "code",
   "execution_count": null,
   "metadata": {},
   "outputs": [],
   "source": [
    "df.to_excel('2022_6_27.xlsx', index=False)"
   ]
  },
  {
   "cell_type": "markdown",
   "metadata": {},
   "source": [
    "## TFL Data"
   ]
  },
  {
   "cell_type": "code",
   "execution_count": 11,
   "metadata": {},
   "outputs": [],
   "source": [
    "import requests, json"
   ]
  },
  {
   "cell_type": "code",
   "execution_count": 12,
   "metadata": {},
   "outputs": [],
   "source": [
    "def get_json_data(url) -> list:\n",
    "    try:\n",
    "        hdr ={\n",
    "        # Request headers\n",
    "        'Cache-Control': 'no-cache',\n",
    "        }\n",
    "\n",
    "        response = requests.get(url, headers=hdr)\n",
    "    except Exception as e:\n",
    "        print(e)\n",
    "        return False\n",
    "    return response.json()\n",
    "\n",
    "def convert_json_to_df(json: list) -> pd.DataFrame:\n",
    "    return pd.DataFrame.from_records(json)\n",
    "\n",
    "def get_df_from_endpoint(url: str) -> pd.DataFrame | bool:\n",
    "    json = get_json_data(url)\n",
    "    if json:\n",
    "        return convert_json_to_df(json)\n",
    "    return False"
   ]
  },
  {
   "cell_type": "code",
   "execution_count": 13,
   "metadata": {},
   "outputs": [],
   "source": [
    "# All roads managed by tfl.\n",
    "\n",
    "roads_url = \"https://api.tfl.gov.uk/Road/\"\n",
    "all_roads_df = get_df_from_endpoint(roads_url)"
   ]
  },
  {
   "cell_type": "code",
   "execution_count": 21,
   "metadata": {},
   "outputs": [],
   "source": [
    "# Disruptions by Date\n",
    "disruptions_url = \"https://api.tfl.gov.uk/Road/all/Street/Disruption?startDate=01-01-2022&endDate=01-01-2023\"\n",
    "disruptions_df = get_df_from_endpoint(disruptions_url)"
   ]
  },
  {
   "cell_type": "code",
   "execution_count": 22,
   "metadata": {},
   "outputs": [],
   "source": [
    "disruptions_df.to_excel('Exploring disruptions.xlsx')"
   ]
  }
 ],
 "metadata": {
  "kernelspec": {
   "display_name": "Python 3.10.0 ('Planned_Road_Works_Project-MjppaCg6')",
   "language": "python",
   "name": "python3"
  },
  "language_info": {
   "codemirror_mode": {
    "name": "ipython",
    "version": 3
   },
   "file_extension": ".py",
   "mimetype": "text/x-python",
   "name": "python",
   "nbconvert_exporter": "python",
   "pygments_lexer": "ipython3",
   "version": "3.10.0"
  },
  "orig_nbformat": 4,
  "vscode": {
   "interpreter": {
    "hash": "b0bb1d5796f9ed2086a621514b32c8a0a528e8ff092863ed338d9043b119abe5"
   }
  }
 },
 "nbformat": 4,
 "nbformat_minor": 2
}
