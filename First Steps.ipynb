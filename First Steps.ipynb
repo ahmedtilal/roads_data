{
 "cells": [
  {
   "cell_type": "code",
   "execution_count": 1,
   "metadata": {},
   "outputs": [],
   "source": [
    "import pandas as pd\n",
    "import requests\n",
    "import xml.etree.ElementTree as ET\n",
    "from xml import etree"
   ]
  },
  {
   "cell_type": "markdown",
   "metadata": {},
   "source": [
    "## .gov Data"
   ]
  },
  {
   "cell_type": "code",
   "execution_count": 2,
   "metadata": {},
   "outputs": [],
   "source": [
    "URL = \"https://s3.eu-west-2.amazonaws.com/data.nationalhighways.co.uk/ha-roadworks/nh_roadworks_2022_6_27.xml\"\n",
    "\n",
    "response = requests.get(URL)\n",
    "with open('2022_6_7.xml', 'wb') as file:\n",
    "    file.write(response.content)"
   ]
  },
  {
   "cell_type": "code",
   "execution_count": 3,
   "metadata": {},
   "outputs": [],
   "source": [
    "tree = ET.parse('2022_6_7.xml')\n",
    "root = tree.getroot()"
   ]
  },
  {
   "cell_type": "code",
   "execution_count": 4,
   "metadata": {},
   "outputs": [],
   "source": [
    "root = root[0][0]"
   ]
  },
  {
   "cell_type": "code",
   "execution_count": 5,
   "metadata": {},
   "outputs": [],
   "source": [
    "children = []\n",
    "for child in root:\n",
    "    children.append(child.attrib)"
   ]
  },
  {
   "cell_type": "code",
   "execution_count": 6,
   "metadata": {},
   "outputs": [],
   "source": [
    "df = pd.DataFrame.from_records(children)"
   ]
  },
  {
   "cell_type": "code",
   "execution_count": 7,
   "metadata": {},
   "outputs": [
    {
     "data": {
      "text/plain": [
       "Index(['NEW_EVENT_NUMBER', 'SDATE', 'EDATE', 'EXPDEL', 'DESCRIPTION',\n",
       "       'CLOSURE_TYPE', 'STATUS', 'PUBLISHED_DATE', 'OLD_REFERENCE_NUMBER'],\n",
       "      dtype='object')"
      ]
     },
     "execution_count": 7,
     "metadata": {},
     "output_type": "execute_result"
    }
   ],
   "source": [
    "df.columns"
   ]
  },
  {
   "cell_type": "code",
   "execution_count": 8,
   "metadata": {},
   "outputs": [],
   "source": [
    "df['SDATE'] = pd.to_datetime(df['SDATE'])\n",
    "df['EDATE'] = pd.to_datetime(df['EDATE'])\n",
    "df['PUBLISHED_DATE'] = pd.to_datetime(df['PUBLISHED_DATE'])"
   ]
  },
  {
   "cell_type": "code",
   "execution_count": 9,
   "metadata": {},
   "outputs": [
    {
     "data": {
      "text/html": [
       "<div>\n",
       "<style scoped>\n",
       "    .dataframe tbody tr th:only-of-type {\n",
       "        vertical-align: middle;\n",
       "    }\n",
       "\n",
       "    .dataframe tbody tr th {\n",
       "        vertical-align: top;\n",
       "    }\n",
       "\n",
       "    .dataframe thead th {\n",
       "        text-align: right;\n",
       "    }\n",
       "</style>\n",
       "<table border=\"1\" class=\"dataframe\">\n",
       "  <thead>\n",
       "    <tr style=\"text-align: right;\">\n",
       "      <th></th>\n",
       "      <th>NEW_EVENT_NUMBER</th>\n",
       "      <th>SDATE</th>\n",
       "      <th>EDATE</th>\n",
       "      <th>EXPDEL</th>\n",
       "      <th>DESCRIPTION</th>\n",
       "      <th>CLOSURE_TYPE</th>\n",
       "      <th>STATUS</th>\n",
       "      <th>PUBLISHED_DATE</th>\n",
       "      <th>OLD_REFERENCE_NUMBER</th>\n",
       "    </tr>\n",
       "  </thead>\n",
       "  <tbody>\n",
       "    <tr>\n",
       "      <th>0</th>\n",
       "      <td>00236665-001</td>\n",
       "      <td>2022-07-07 22:00:00</td>\n",
       "      <td>2022-07-08 05:00:00</td>\n",
       "      <td>Slight (less than 10 mins)</td>\n",
       "      <td>A40 Westbound Jct 1\\r\\nSlip road lane closures...</td>\n",
       "      <td>Programmed Routine Works</td>\n",
       "      <td>Published</td>\n",
       "      <td>2021-10-08 16:42:51</td>\n",
       "      <td>NaN</td>\n",
       "    </tr>\n",
       "    <tr>\n",
       "      <th>1</th>\n",
       "      <td>00233760-003</td>\n",
       "      <td>2022-07-11 20:00:00</td>\n",
       "      <td>2022-07-23 06:00:00</td>\n",
       "      <td>Moderate (10 - 30 mins)</td>\n",
       "      <td>A1(M)/M62 Link roads (A1(M) Jct 41/M62 Jct 32a...</td>\n",
       "      <td>Programmed Routine Works</td>\n",
       "      <td>Published</td>\n",
       "      <td>2021-10-21 11:51:46</td>\n",
       "      <td>NaN</td>\n",
       "    </tr>\n",
       "    <tr>\n",
       "      <th>2</th>\n",
       "      <td>00031362-003</td>\n",
       "      <td>2020-09-01 00:00:00</td>\n",
       "      <td>2023-12-01 00:00:00</td>\n",
       "      <td>Slight (less than 10 mins)</td>\n",
       "      <td>A30 Carland Cross to Chiverton Cross improveme...</td>\n",
       "      <td>Major Schemes</td>\n",
       "      <td>Published</td>\n",
       "      <td>2021-10-15 08:02:48</td>\n",
       "      <td>NaN</td>\n",
       "    </tr>\n",
       "    <tr>\n",
       "      <th>3</th>\n",
       "      <td>00242874-001</td>\n",
       "      <td>2022-07-08 15:00:00</td>\n",
       "      <td>2022-07-08 21:00:00</td>\n",
       "      <td>Slight (less than 10 mins)</td>\n",
       "      <td>Women's European Football Championships\\r\\nSpa...</td>\n",
       "      <td>Off Network</td>\n",
       "      <td>Published</td>\n",
       "      <td>2021-11-18 16:13:19</td>\n",
       "      <td>4231242</td>\n",
       "    </tr>\n",
       "    <tr>\n",
       "      <th>4</th>\n",
       "      <td>00113644-005</td>\n",
       "      <td>2021-12-08 00:00:00</td>\n",
       "      <td>2024-07-01 06:00:00</td>\n",
       "      <td>Slight (less than 10 mins)</td>\n",
       "      <td>A5 from Bucks Head Farm Bridge to Packington M...</td>\n",
       "      <td>Major Schemes</td>\n",
       "      <td>Published</td>\n",
       "      <td>2021-12-06 08:36:05</td>\n",
       "      <td>NaN</td>\n",
       "    </tr>\n",
       "    <tr>\n",
       "      <th>...</th>\n",
       "      <td>...</td>\n",
       "      <td>...</td>\n",
       "      <td>...</td>\n",
       "      <td>...</td>\n",
       "      <td>...</td>\n",
       "      <td>...</td>\n",
       "      <td>...</td>\n",
       "      <td>...</td>\n",
       "      <td>...</td>\n",
       "    </tr>\n",
       "    <tr>\n",
       "      <th>1319</th>\n",
       "      <td>00275330-001</td>\n",
       "      <td>2022-07-08 20:00:00</td>\n",
       "      <td>2022-07-09 05:00:00</td>\n",
       "      <td>Slight (less than 10 mins)</td>\n",
       "      <td>A38 northbound Palm Court to Kedleston.\\r\\nLan...</td>\n",
       "      <td>Emergency Routine Works</td>\n",
       "      <td>Published</td>\n",
       "      <td>2022-06-24 12:11:32</td>\n",
       "      <td>NaN</td>\n",
       "    </tr>\n",
       "    <tr>\n",
       "      <th>1320</th>\n",
       "      <td>00275024-001</td>\n",
       "      <td>2022-06-28 20:00:00</td>\n",
       "      <td>2022-06-29 05:00:00</td>\n",
       "      <td>Slight (less than 10 mins)</td>\n",
       "      <td>A47 westbound \\r\\nCastor to Sutton Roundabout ...</td>\n",
       "      <td>Programmed Routine Works</td>\n",
       "      <td>Published</td>\n",
       "      <td>2022-06-23 09:07:50</td>\n",
       "      <td>NaN</td>\n",
       "    </tr>\n",
       "    <tr>\n",
       "      <th>1321</th>\n",
       "      <td>00273279-002</td>\n",
       "      <td>2022-06-28 22:00:00</td>\n",
       "      <td>2022-06-29 05:00:00</td>\n",
       "      <td>Slight (less than 10 mins)</td>\n",
       "      <td>A3 eastbound to Esher roundabot\\r\\nExit slip a...</td>\n",
       "      <td>Programmed Routine Works</td>\n",
       "      <td>Published</td>\n",
       "      <td>2022-06-21 09:59:37</td>\n",
       "      <td>NaN</td>\n",
       "    </tr>\n",
       "    <tr>\n",
       "      <th>1322</th>\n",
       "      <td>00274440-001</td>\n",
       "      <td>2022-06-26 21:00:00</td>\n",
       "      <td>2022-06-27 06:00:00</td>\n",
       "      <td>Moderate (10 - 30 mins)</td>\n",
       "      <td>M6 Southbound Junction 9 to junction 8 leading...</td>\n",
       "      <td>Emergency Routine Works</td>\n",
       "      <td>Published</td>\n",
       "      <td>2022-06-21 11:19:27</td>\n",
       "      <td>NaN</td>\n",
       "    </tr>\n",
       "    <tr>\n",
       "      <th>1323</th>\n",
       "      <td>00274516-001</td>\n",
       "      <td>2022-07-06 21:00:00</td>\n",
       "      <td>2022-07-07 05:00:00</td>\n",
       "      <td>Slight (less than 10 mins)</td>\n",
       "      <td>A120 westbound\\r\\nDunmow West to Stansted\\r\\nl...</td>\n",
       "      <td>Area Renewals</td>\n",
       "      <td>Published</td>\n",
       "      <td>2022-06-21 12:35:45</td>\n",
       "      <td>NaN</td>\n",
       "    </tr>\n",
       "  </tbody>\n",
       "</table>\n",
       "<p>1324 rows × 9 columns</p>\n",
       "</div>"
      ],
      "text/plain": [
       "     NEW_EVENT_NUMBER               SDATE               EDATE  \\\n",
       "0        00236665-001 2022-07-07 22:00:00 2022-07-08 05:00:00   \n",
       "1        00233760-003 2022-07-11 20:00:00 2022-07-23 06:00:00   \n",
       "2        00031362-003 2020-09-01 00:00:00 2023-12-01 00:00:00   \n",
       "3        00242874-001 2022-07-08 15:00:00 2022-07-08 21:00:00   \n",
       "4        00113644-005 2021-12-08 00:00:00 2024-07-01 06:00:00   \n",
       "...               ...                 ...                 ...   \n",
       "1319     00275330-001 2022-07-08 20:00:00 2022-07-09 05:00:00   \n",
       "1320     00275024-001 2022-06-28 20:00:00 2022-06-29 05:00:00   \n",
       "1321     00273279-002 2022-06-28 22:00:00 2022-06-29 05:00:00   \n",
       "1322     00274440-001 2022-06-26 21:00:00 2022-06-27 06:00:00   \n",
       "1323     00274516-001 2022-07-06 21:00:00 2022-07-07 05:00:00   \n",
       "\n",
       "                          EXPDEL  \\\n",
       "0     Slight (less than 10 mins)   \n",
       "1        Moderate (10 - 30 mins)   \n",
       "2     Slight (less than 10 mins)   \n",
       "3     Slight (less than 10 mins)   \n",
       "4     Slight (less than 10 mins)   \n",
       "...                          ...   \n",
       "1319  Slight (less than 10 mins)   \n",
       "1320  Slight (less than 10 mins)   \n",
       "1321  Slight (less than 10 mins)   \n",
       "1322     Moderate (10 - 30 mins)   \n",
       "1323  Slight (less than 10 mins)   \n",
       "\n",
       "                                            DESCRIPTION  \\\n",
       "0     A40 Westbound Jct 1\\r\\nSlip road lane closures...   \n",
       "1     A1(M)/M62 Link roads (A1(M) Jct 41/M62 Jct 32a...   \n",
       "2     A30 Carland Cross to Chiverton Cross improveme...   \n",
       "3     Women's European Football Championships\\r\\nSpa...   \n",
       "4     A5 from Bucks Head Farm Bridge to Packington M...   \n",
       "...                                                 ...   \n",
       "1319  A38 northbound Palm Court to Kedleston.\\r\\nLan...   \n",
       "1320  A47 westbound \\r\\nCastor to Sutton Roundabout ...   \n",
       "1321  A3 eastbound to Esher roundabot\\r\\nExit slip a...   \n",
       "1322  M6 Southbound Junction 9 to junction 8 leading...   \n",
       "1323  A120 westbound\\r\\nDunmow West to Stansted\\r\\nl...   \n",
       "\n",
       "                  CLOSURE_TYPE     STATUS      PUBLISHED_DATE  \\\n",
       "0     Programmed Routine Works  Published 2021-10-08 16:42:51   \n",
       "1     Programmed Routine Works  Published 2021-10-21 11:51:46   \n",
       "2                Major Schemes  Published 2021-10-15 08:02:48   \n",
       "3                  Off Network  Published 2021-11-18 16:13:19   \n",
       "4                Major Schemes  Published 2021-12-06 08:36:05   \n",
       "...                        ...        ...                 ...   \n",
       "1319   Emergency Routine Works  Published 2022-06-24 12:11:32   \n",
       "1320  Programmed Routine Works  Published 2022-06-23 09:07:50   \n",
       "1321  Programmed Routine Works  Published 2022-06-21 09:59:37   \n",
       "1322   Emergency Routine Works  Published 2022-06-21 11:19:27   \n",
       "1323             Area Renewals  Published 2022-06-21 12:35:45   \n",
       "\n",
       "     OLD_REFERENCE_NUMBER  \n",
       "0                     NaN  \n",
       "1                     NaN  \n",
       "2                     NaN  \n",
       "3                 4231242  \n",
       "4                     NaN  \n",
       "...                   ...  \n",
       "1319                  NaN  \n",
       "1320                  NaN  \n",
       "1321                  NaN  \n",
       "1322                  NaN  \n",
       "1323                  NaN  \n",
       "\n",
       "[1324 rows x 9 columns]"
      ]
     },
     "execution_count": 9,
     "metadata": {},
     "output_type": "execute_result"
    }
   ],
   "source": [
    "df"
   ]
  },
  {
   "cell_type": "code",
   "execution_count": 10,
   "metadata": {},
   "outputs": [
    {
     "ename": "ModuleNotFoundError",
     "evalue": "No module named 'openpyxl'",
     "output_type": "error",
     "traceback": [
      "\u001b[1;31m---------------------------------------------------------------------------\u001b[0m",
      "\u001b[1;31mModuleNotFoundError\u001b[0m                       Traceback (most recent call last)",
      "\u001b[1;32mc:\\Users\\ahmed\\Desktop\\Planned Road Works Project\\First Steps.ipynb Cell 11\u001b[0m in \u001b[0;36m<cell line: 1>\u001b[1;34m()\u001b[0m\n\u001b[1;32m----> <a href='vscode-notebook-cell:/c%3A/Users/ahmed/Desktop/Planned%20Road%20Works%20Project/First%20Steps.ipynb#ch0000010?line=0'>1</a>\u001b[0m df\u001b[39m.\u001b[39;49mto_excel(\u001b[39m'\u001b[39;49m\u001b[39m2022_6_27.xlsx\u001b[39;49m\u001b[39m'\u001b[39;49m, index\u001b[39m=\u001b[39;49m\u001b[39mFalse\u001b[39;49;00m)\n",
      "File \u001b[1;32mc:\\Users\\ahmed\\.virtualenvs\\Planned_Road_Works_Project-MjppaCg6\\lib\\site-packages\\pandas\\core\\generic.py:2345\u001b[0m, in \u001b[0;36mNDFrame.to_excel\u001b[1;34m(self, excel_writer, sheet_name, na_rep, float_format, columns, header, index, index_label, startrow, startcol, engine, merge_cells, encoding, inf_rep, verbose, freeze_panes, storage_options)\u001b[0m\n\u001b[0;32m   2332\u001b[0m \u001b[39mfrom\u001b[39;00m \u001b[39mpandas\u001b[39;00m\u001b[39m.\u001b[39;00m\u001b[39mio\u001b[39;00m\u001b[39m.\u001b[39;00m\u001b[39mformats\u001b[39;00m\u001b[39m.\u001b[39;00m\u001b[39mexcel\u001b[39;00m \u001b[39mimport\u001b[39;00m ExcelFormatter\n\u001b[0;32m   2334\u001b[0m formatter \u001b[39m=\u001b[39m ExcelFormatter(\n\u001b[0;32m   2335\u001b[0m     df,\n\u001b[0;32m   2336\u001b[0m     na_rep\u001b[39m=\u001b[39mna_rep,\n\u001b[1;32m   (...)\u001b[0m\n\u001b[0;32m   2343\u001b[0m     inf_rep\u001b[39m=\u001b[39minf_rep,\n\u001b[0;32m   2344\u001b[0m )\n\u001b[1;32m-> 2345\u001b[0m formatter\u001b[39m.\u001b[39;49mwrite(\n\u001b[0;32m   2346\u001b[0m     excel_writer,\n\u001b[0;32m   2347\u001b[0m     sheet_name\u001b[39m=\u001b[39;49msheet_name,\n\u001b[0;32m   2348\u001b[0m     startrow\u001b[39m=\u001b[39;49mstartrow,\n\u001b[0;32m   2349\u001b[0m     startcol\u001b[39m=\u001b[39;49mstartcol,\n\u001b[0;32m   2350\u001b[0m     freeze_panes\u001b[39m=\u001b[39;49mfreeze_panes,\n\u001b[0;32m   2351\u001b[0m     engine\u001b[39m=\u001b[39;49mengine,\n\u001b[0;32m   2352\u001b[0m     storage_options\u001b[39m=\u001b[39;49mstorage_options,\n\u001b[0;32m   2353\u001b[0m )\n",
      "File \u001b[1;32mc:\\Users\\ahmed\\.virtualenvs\\Planned_Road_Works_Project-MjppaCg6\\lib\\site-packages\\pandas\\io\\formats\\excel.py:888\u001b[0m, in \u001b[0;36mExcelFormatter.write\u001b[1;34m(self, writer, sheet_name, startrow, startcol, freeze_panes, engine, storage_options)\u001b[0m\n\u001b[0;32m    884\u001b[0m     need_save \u001b[39m=\u001b[39m \u001b[39mFalse\u001b[39;00m\n\u001b[0;32m    885\u001b[0m \u001b[39melse\u001b[39;00m:\n\u001b[0;32m    886\u001b[0m     \u001b[39m# error: Cannot instantiate abstract class 'ExcelWriter' with abstract\u001b[39;00m\n\u001b[0;32m    887\u001b[0m     \u001b[39m# attributes 'engine', 'save', 'supported_extensions' and 'write_cells'\u001b[39;00m\n\u001b[1;32m--> 888\u001b[0m     writer \u001b[39m=\u001b[39m ExcelWriter(  \u001b[39m# type: ignore[abstract]\u001b[39;49;00m\n\u001b[0;32m    889\u001b[0m         writer, engine\u001b[39m=\u001b[39;49mengine, storage_options\u001b[39m=\u001b[39;49mstorage_options\n\u001b[0;32m    890\u001b[0m     )\n\u001b[0;32m    891\u001b[0m     need_save \u001b[39m=\u001b[39m \u001b[39mTrue\u001b[39;00m\n\u001b[0;32m    893\u001b[0m \u001b[39mtry\u001b[39;00m:\n",
      "File \u001b[1;32mc:\\Users\\ahmed\\.virtualenvs\\Planned_Road_Works_Project-MjppaCg6\\lib\\site-packages\\pandas\\io\\excel\\_openpyxl.py:49\u001b[0m, in \u001b[0;36mOpenpyxlWriter.__init__\u001b[1;34m(self, path, engine, date_format, datetime_format, mode, storage_options, if_sheet_exists, engine_kwargs, **kwargs)\u001b[0m\n\u001b[0;32m     36\u001b[0m \u001b[39mdef\u001b[39;00m \u001b[39m__init__\u001b[39m(\n\u001b[0;32m     37\u001b[0m     \u001b[39mself\u001b[39m,\n\u001b[0;32m     38\u001b[0m     path,\n\u001b[1;32m   (...)\u001b[0m\n\u001b[0;32m     47\u001b[0m ):\n\u001b[0;32m     48\u001b[0m     \u001b[39m# Use the openpyxl module as the Excel writer.\u001b[39;00m\n\u001b[1;32m---> 49\u001b[0m     \u001b[39mfrom\u001b[39;00m \u001b[39mopenpyxl\u001b[39;00m\u001b[39m.\u001b[39;00m\u001b[39mworkbook\u001b[39;00m \u001b[39mimport\u001b[39;00m Workbook\n\u001b[0;32m     51\u001b[0m     engine_kwargs \u001b[39m=\u001b[39m combine_kwargs(engine_kwargs, kwargs)\n\u001b[0;32m     53\u001b[0m     \u001b[39msuper\u001b[39m()\u001b[39m.\u001b[39m\u001b[39m__init__\u001b[39m(\n\u001b[0;32m     54\u001b[0m         path,\n\u001b[0;32m     55\u001b[0m         mode\u001b[39m=\u001b[39mmode,\n\u001b[1;32m   (...)\u001b[0m\n\u001b[0;32m     58\u001b[0m         engine_kwargs\u001b[39m=\u001b[39mengine_kwargs,\n\u001b[0;32m     59\u001b[0m     )\n",
      "\u001b[1;31mModuleNotFoundError\u001b[0m: No module named 'openpyxl'"
     ]
    }
   ],
   "source": [
    "df.to_excel('2022_6_27.xlsx', index=False)"
   ]
  },
  {
   "cell_type": "markdown",
   "metadata": {},
   "source": [
    "## TFL Data"
   ]
  },
  {
   "cell_type": "code",
   "execution_count": 11,
   "metadata": {},
   "outputs": [],
   "source": [
    "import requests, json"
   ]
  },
  {
   "cell_type": "code",
   "execution_count": 12,
   "metadata": {},
   "outputs": [],
   "source": [
    "def get_json_data(url) -> list:\n",
    "    try:\n",
    "        hdr ={\n",
    "        # Request headers\n",
    "        'Cache-Control': 'no-cache',\n",
    "        }\n",
    "\n",
    "        response = requests.get(url, headers=hdr)\n",
    "    except Exception as e:\n",
    "        print(e)\n",
    "        return False\n",
    "    return response.json()\n",
    "\n",
    "def convert_json_to_df(json: list) -> pd.DataFrame:\n",
    "    return pd.DataFrame.from_records(json)\n",
    "\n",
    "def get_df_from_endpoint(url: str) -> pd.DataFrame | bool:\n",
    "    json = get_json_data(url)\n",
    "    if json:\n",
    "        return convert_json_to_df(json)\n",
    "    return False"
   ]
  },
  {
   "cell_type": "code",
   "execution_count": 13,
   "metadata": {},
   "outputs": [],
   "source": [
    "# All roads managed by tfl.\n",
    "\n",
    "roads_url = \"https://api.tfl.gov.uk/Road/\"\n",
    "all_roads_df = get_df_from_endpoint(roads_url)"
   ]
  },
  {
   "cell_type": "code",
   "execution_count": 21,
   "metadata": {},
   "outputs": [],
   "source": [
    "# Disruptions by Date\n",
    "disruptions_url = \"https://api.tfl.gov.uk/Road/all/Street/Disruption?startDate=01-01-2022&endDate=01-01-2023\"\n",
    "disruptions_df = get_df_from_endpoint(disruptions_url)"
   ]
  },
  {
   "cell_type": "code",
   "execution_count": 22,
   "metadata": {},
   "outputs": [],
   "source": [
    "disruptions_df.to_excel('Exploring disruptions.xlsx')"
   ]
  }
 ],
 "metadata": {
  "kernelspec": {
   "display_name": "Python 3.10.0 ('Planned_Road_Works_Project-MjppaCg6')",
   "language": "python",
   "name": "python3"
  },
  "language_info": {
   "codemirror_mode": {
    "name": "ipython",
    "version": 3
   },
   "file_extension": ".py",
   "mimetype": "text/x-python",
   "name": "python",
   "nbconvert_exporter": "python",
   "pygments_lexer": "ipython3",
   "version": "3.10.0"
  },
  "orig_nbformat": 4,
  "vscode": {
   "interpreter": {
    "hash": "b0bb1d5796f9ed2086a621514b32c8a0a528e8ff092863ed338d9043b119abe5"
   }
  }
 },
 "nbformat": 4,
 "nbformat_minor": 2
}
