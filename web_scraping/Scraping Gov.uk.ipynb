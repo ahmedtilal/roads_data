{
 "cells": [
  {
   "cell_type": "markdown",
   "metadata": {},
   "source": [
    "# Scraping data.gov.uk "
   ]
  },
  {
   "cell_type": "markdown",
   "metadata": {},
   "source": [
    "In this notebook, we are scraping the 'planned-road-works-on-the-national-highways-road-network' page in data.gov to check if any new datasets are added. So we can then obtain the link for this new dataset and pass it to our ingestion pipeline to ingest that data.\n",
    "\n",
    "The URL we are scraping is https://www.data.gov.uk/dataset/5b3267d8-4307-4eef-a9af-3a4c28224694/planned-road-works-on-the-national-highways-road-network"
   ]
  },
  {
   "cell_type": "code",
   "execution_count": null,
   "metadata": {},
   "outputs": [
    {
     "ename": "",
     "evalue": "",
     "output_type": "error",
     "traceback": [
      "\u001b[1;31mRunning cells with 'Python 3.10.6 ('roads_data-jZJJlTKF')' requires ipykernel package.\n",
      "\u001b[1;31mRun the following command to install 'ipykernel' into the Python environment. \n",
      "\u001b[1;31mCommand: '/home/ahmed/.local/share/virtualenvs/roads_data-jZJJlTKF/bin/python -m pip install ipykernel -U --force-reinstall'"
     ]
    }
   ],
   "source": [
    "# Importing Selenium which is the tool we will use to scrape the website.\n",
    "from selenium import webdriver\n",
    "from selenium.webdriver.chrome.service import Service\n",
    "from selenium.webdriver.common.by import By"
   ]
  },
  {
   "cell_type": "code",
   "execution_count": null,
   "metadata": {},
   "outputs": [],
   "source": [
    "# Setting the Selenium driver, I'm using Chrome. I mean who doesn't? lol\n",
    "import os\n",
    "chrome_dir = os.path.join(os.getcwd(), \"web_scraping\\chrome_driver\")\n",
    "driver_path = os.path.join(chrome_dir, \"chromedriver.exe\")\n",
    "print(driver_path)\n",
    "service=Service(executable_path=driver_path)\n",
    "options = webdriver.ChromeOptions()\n",
    "options.headless = True\n",
    "options.add_argument(\"window-size=1920x1080\")\n",
    "options.add_argument('--no-sandbox')\n",
    "options.add_argument('--disable-gpu')\n",
    "driver = webdriver.Chrome(options=options, service=service)"
   ]
  },
  {
   "cell_type": "code",
   "execution_count": 3,
   "metadata": {},
   "outputs": [],
   "source": [
    "# We open the website using the driver.\n",
    "driver.get('https://www.data.gov.uk/dataset/5b3267d8-4307-4eef-a9af-3a4c28224694/planned-road-works-on-the-national-highways-road-network')"
   ]
  },
  {
   "cell_type": "code",
   "execution_count": 4,
   "metadata": {},
   "outputs": [],
   "source": [
    "# Here we get all the anchor tags containing the download event.\n",
    "elements = driver.find_elements(By.XPATH, \"//a[@data-ga-event='download'][@class='govuk-link']\")"
   ]
  },
  {
   "cell_type": "code",
   "execution_count": 5,
   "metadata": {},
   "outputs": [],
   "source": [
    "# We then extract the links from the anchor tags and put them in a list.\n",
    "file_links = []\n",
    "for element in elements:\n",
    "    element_link = element.get_attribute('href')\n",
    "    file_links.append(element_link)"
   ]
  },
  {
   "cell_type": "code",
   "execution_count": 6,
   "metadata": {},
   "outputs": [],
   "source": [
    "# Close the Chrome window used by the driver.\n",
    "driver.close()"
   ]
  },
  {
   "cell_type": "code",
   "execution_count": 9,
   "metadata": {},
   "outputs": [
    {
     "data": {
      "text/plain": [
       "541"
      ]
     },
     "execution_count": 9,
     "metadata": {},
     "output_type": "execute_result"
    }
   ],
   "source": [
    "len(file_links)"
   ]
  }
 ],
 "metadata": {
  "kernelspec": {
   "display_name": "Python 3.10.6 ('roads_data-jZJJlTKF')",
   "language": "python",
   "name": "python3"
  },
  "language_info": {
   "codemirror_mode": {
    "name": "ipython",
    "version": 3
   },
   "file_extension": ".py",
   "mimetype": "text/x-python",
   "name": "python",
   "nbconvert_exporter": "python",
   "pygments_lexer": "ipython3",
   "version": "3.10.6"
  },
  "orig_nbformat": 4,
  "vscode": {
   "interpreter": {
    "hash": "26ea555bd91420e9a35a542fb6f091f00585fff07f6cbf65bbc4700ee9a754e5"
   }
  }
 },
 "nbformat": 4,
 "nbformat_minor": 2
}
